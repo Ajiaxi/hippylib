{
 "cells": [
  {
   "cell_type": "markdown",
   "metadata": {},
   "source": [
    "# Spectrum of the preconditioned Hessian misfit operator\n",
    "## The linear source inversion problem\n",
    "\n",
    "We consider the following linear source inversion problem.\n",
    "Find the state $u \\in H^1_{\\Gamma_D}(\\Omega)$ and the source (*parameter*) $m \\in H^1(\\Omega)$ that solves\n",
    "\n",
    "$$\n",
    "\\begin{aligned}\n",
    "{} & \\min_m \\frac{1}{2\\sigma^2} \\| Bu - u_d \\|^2 + \\frac{1}{2} \\int_\\Omega \\left[ \\delta|m-m_0|^2 + \\gamma|\\nabla (m - m_0)|^2 \\right] dx & {}\\\\\n",
    "{\\rm s.t.} & {} &{} \\\\\n",
    "{} & -{\\rm div}(k \\nabla u) + {\\bf v}\\cdot \\nabla u + cu = m & {\\rm in} \\; \\Omega\\\\\n",
    "{} & u = 0 & {\\rm on } \\; \\Gamma_D\\\\\n",
    "{} & k \\frac{\\partial u}{\\partial n} = 0 & {\\rm on } \\; \\Gamma_N\\\\\n",
    "\\end{aligned}\n",
    "$$\n",
    "\n",
    "Here:\n",
    "\n",
    "- $u_d$ is a $n_{\\rm obs}$ finite dimensional vector that denotes noisy observations of the state $u$ in $n_{\\rm obs}$ locations $\\{ {\\bf x}_i\\}_{i=1}^{n_{\\rm obs}}$. Specifically, $u_d(i) = u_{\\rm true}( {\\bf x}_i ) + \\eta_i$, where $\\eta_i$ are i.i.d. $\\mathcal{N}(0, \\sigma^2)$.\n",
    "\n",
    "- $B: H^1_0(\\Omega) \\rightarrow \\mathbb{R}^{n_{\\rm obs}}$ is the linear operator that evaluates the state $u$ at the observation locations $\\{ {\\bf x}_i\\}_{i=1}^{n_{\\rm obs}}$.\n",
    "\n",
    "- $\\delta$ and $\\gamma$ are the parameters of the regularization penalizing the $L^2(\\Omega)$ and $H^1(\\Omega)$ norm of $m-m_0$, respectively.\n",
    "\n",
    "- $k$, ${\\bf v}$, $c$ are given coefficients representing the diffusivity coefficient, the advective velocity and the reaction term, respectively.\n",
    "\n",
    "- $\\Gamma_D \\subset \\partial \\Omega$, $\\Gamma_N \\subset \\partial \\Omega$ represents the subdomain of $\\partial\\Omega$ where we impose Dirichlet or Neumann boundary conditions, respectively.\n",
    "\n"
   ]
  },
  {
   "cell_type": "markdown",
   "metadata": {},
   "source": [
    "## 1. Load modules"
   ]
  },
  {
   "cell_type": "code",
   "execution_count": 1,
   "metadata": {},
   "outputs": [],
   "source": [
    "import dolfin as dl\n",
    "import numpy as np\n",
    "import matplotlib.pyplot as plt\n",
    "%matplotlib inline\n",
    "\n",
    "import sys\n",
    "import os\n",
    "sys.path.append( os.environ.get('HIPPYLIB_BASE_DIR', \"../\") )\n",
    "from hippylib import *\n",
    "\n",
    "from jacobian import Jacobian\n",
    "\n",
    "\n",
    "import logging\n",
    "logging.getLogger('FFC').setLevel(logging.WARNING)\n",
    "logging.getLogger('UFL').setLevel(logging.WARNING)\n",
    "dl.set_log_active(False)"
   ]
  },
  {
   "cell_type": "markdown",
   "metadata": {},
   "source": [
    "## 2. The linear source inversion problem"
   ]
  },
  {
   "cell_type": "code",
   "execution_count": 2,
   "metadata": {},
   "outputs": [
    {
     "data": {
      "image/png": "[encoded data removed]",
      "text/plain": [
       "<Figure size 432x288 with 1 Axes>"
      ]
     },
     "metadata": {
      "needs_background": "light"
     },
     "output_type": "display_data"
    },
    {
     "data": {
      "image/png": "[encoded data removed]",
      "text/plain": [
       "<Figure size 432x288 with 1 Axes>"
      ]
     },
     "metadata": {
      "needs_background": "light"
     },
     "output_type": "display_data"
    },
    {
     "name": "stdout",
     "output_type": "stream",
     "text": [
      "Difference in eigenvalues: 0.5342736277083028\n"
     ]
    }
   ],
   "source": [
    "k = dl.Constant(1.0)\n",
    "v = dl.Constant((0.0, 0.0))\n",
    "c = dl.Constant(0.)\n",
    "\n",
    "def pde_varf(u,m,p):\n",
    "    return k*dl.inner(dl.nabla_grad(u), dl.nabla_grad(p))*dl.dx \\\n",
    "           + dl.inner(dl.nabla_grad(u), v*p)*dl.dx \\\n",
    "           + c*u*p*dl.dx \\\n",
    "           - m*p*dl.dx\n",
    "\n",
    "def u_boundary(x, on_boundary):\n",
    "    return on_boundary and x[1] < dl.DOLFIN_EPS\n",
    "\n",
    "ndim = 2\n",
    "nx = 32\n",
    "ny = 32\n",
    "\n",
    "ntargets = 300\n",
    "np.random.seed(seed=1)\n",
    "targets = np.random.uniform(0.1,0.9, [ntargets, ndim] )\n",
    "rel_noise = 0.01\n",
    "\n",
    "gamma = 70.\n",
    "delta = 1e-1\n",
    "verbose = False\n",
    "\n",
    "\n",
    "\n",
    "myRandom = Random()\n",
    "mesh = dl.UnitSquareMesh(nx, ny)\n",
    "Vh1 = dl.FunctionSpace(mesh, 'Lagrange', 1)\n",
    "\n",
    "Vh = [Vh1, Vh1, Vh1]\n",
    "if verbose:\n",
    "    print( \"Number of dofs: STATE={0}, PARAMETER={1}, ADJOINT={2}\".format(Vh[STATE].dim(), Vh[PARAMETER].dim(), Vh[ADJOINT].dim()) )\n",
    "\n",
    "\n",
    "u_bdr = dl.Constant(0.0)\n",
    "u_bdr0 = dl.Constant(0.0)\n",
    "bc = dl.DirichletBC(Vh[STATE], u_bdr, u_boundary)\n",
    "bc0 = dl.DirichletBC(Vh[STATE], u_bdr0, u_boundary)\n",
    "\n",
    "mtrue = dl.interpolate( dl.Expression('min(0.5,exp(-100*(pow(x[0]-0.35,2) +  pow(x[1]-0.7,2))))',degree=5), Vh[PARAMETER]).vector()\n",
    "m0 = dl.interpolate(dl.Constant(0.0), Vh[PARAMETER]).vector()\n",
    "\n",
    "pde = PDEVariationalProblem(Vh, pde_varf, bc, bc0, is_fwd_linear=True)\n",
    "\n",
    "if verbose:\n",
    "    print( \"Number of observation points: {0}\".format(targets.shape[0]) )\n",
    "\n",
    "misfit = PointwiseStateObservation(Vh[STATE], targets)\n",
    "\n",
    "reg = LaplacianPrior(Vh[PARAMETER], gamma, delta)\n",
    "\n",
    "#Generate synthetic observations\n",
    "utrue = pde.generate_state()\n",
    "x = [utrue, mtrue, None]\n",
    "pde.solveFwd(x[STATE], x)\n",
    "misfit.B.mult(x[STATE], misfit.d)\n",
    "MAX = misfit.d.norm(\"linf\")\n",
    "noise_std_dev = rel_noise * MAX\n",
    "myRandom.normal_perturb(noise_std_dev, misfit.d)\n",
    "misfit.noise_variance = noise_std_dev*noise_std_dev\n",
    "\n",
    "if verbose:\n",
    "    plt.figure(figsize=(18,4))\n",
    "    nb.plot(dl.Function(Vh[PARAMETER], mtrue), mytitle = \"True source\", subplot_loc=131)\n",
    "    nb.plot(dl.Function(Vh[STATE], utrue), mytitle=\"True state\", subplot_loc=132)\n",
    "    nb.plot_pts(targets, misfit.d,mytitle=\"Observations\", subplot_loc=133)\n",
    "    plt.show()\n",
    "\n",
    "model = Model(pde, reg, misfit)\n",
    "u = model.generate_vector(STATE)\n",
    "m = m0.copy()\n",
    "p = model.generate_vector(ADJOINT)\n",
    "x = [u,m,p]\n",
    "mg = model.generate_vector(PARAMETER)\n",
    "model.solveFwd(u, x)\n",
    "model.solveAdj(p, x)\n",
    "model.evalGradientParameter(x, mg)\n",
    "model.setPointForHessianEvaluations(x, gauss_newton_approx=True)\n",
    "\n",
    "H = ReducedHessian(model)\n",
    "\n",
    "solver = CGSolverSteihaug()\n",
    "solver.set_operator(H)\n",
    "solver.set_preconditioner( reg.Rsolver )\n",
    "solver.parameters[\"print_level\"] = -1\n",
    "solver.parameters[\"rel_tolerance\"] = 1e-9\n",
    "solver.solve(m, -mg)\n",
    "\n",
    "if solver.converged:\n",
    "    if verbose:\n",
    "        print( \"CG converged in \", solver.iter, \" iterations.\" )\n",
    "else:\n",
    "    print( \"CG did not converged.\" )\n",
    "    raise\n",
    "\n",
    "model.solveFwd(u, x)\n",
    "\n",
    "total_cost, reg_cost, misfit_cost = model.cost(x)\n",
    "\n",
    "    \n",
    "J = Jacobian(model) \n",
    "\n",
    "class JTJ:\n",
    "    def __init__(self,J):\n",
    "        \n",
    "        self.J = J\n",
    "        \n",
    "    def mult(self,x,y):\n",
    "        self.J.JTJ(x,y)\n",
    "        \n",
    "JTJ_ = JTJ(J)\n",
    "\n",
    "class JJT:\n",
    "    def __init__(self,J):\n",
    "        self.J = J\n",
    "    \n",
    "    def mult(self,x,y):\n",
    "        self.J.JJT(x,y)\n",
    "\n",
    "JJT_ = JJT(J)\n",
    "\n",
    "if True:\n",
    "    k_evec = 80\n",
    "    p_evec = 5\n",
    "    s = 2\n",
    "    if verbose:\n",
    "        print( \"Double Pass Algorithm with H GN. Requested eigenvectors: {0}; Oversampling {1}.\".format(k_evec,p_evec) )\n",
    "    Omega = MultiVector(x[PARAMETER], k_evec+p_evec)\n",
    "    myRandom.normal(1., Omega)\n",
    "\n",
    "    \n",
    "    lmbda_JTJ, V_JTJ = doublePass(JTJ_, Omega, k_evec,s, check = False)\n",
    "\n",
    "    plt.figure()\n",
    "    nb.plot_eigenvalues(lmbda_JTJ, mytitle=\"Eigenvalues JTJ\")\n",
    "#     nb.plot_eigenvectors(Vh[PARAMETER], V_H_GN, mytitle=\"Eigenvectors\", which=[0,1,2,5,10,15])\n",
    "    plt.show()\n",
    "#     print('Difference in eigenvalues:', np.linalg.norm(lmbda_H_GN - lmbda_JTJ))\n",
    "    \n",
    "    obs_vector = dl.Vector()\n",
    "    misfit.B.init_vector(obs_vector,0)\n",
    "    Omega_u = MultiVector(obs_vector, k_evec+p_evec)\n",
    "    myRandom.normal(1., Omega_u)\n",
    "    \n",
    "\n",
    "    lmbda_JJT, V_JJT = doublePass(JJT_, Omega_u, k_evec,s,check = False)\n",
    "\n",
    "    \n",
    "    plt.figure()\n",
    "    nb.plot_eigenvalues(lmbda_JJT, mytitle=\"Eigenvalues JJT\")\n",
    "#     nb.plot_eigenvectors(Vh[PARAMETER], V_H_GN, mytitle=\"Eigenvectors\", which=[0,1,2,5,10,15])\n",
    "    plt.show()\n",
    "    print('Difference in eigenvalues:', np.linalg.norm(lmbda_JJT - lmbda_JTJ))"
   ]
  },
  {
   "cell_type": "code",
   "execution_count": 3,
   "metadata": {},
   "outputs": [
    {
     "name": "stdout",
     "output_type": "stream",
     "text": [
      "Y_shape =  (300, 85)\n",
      "Z shape =  (1089, 85)\n",
      "Q shape =  (300, 85)\n",
      "||R|| =  1001.6042903129566\n",
      "The shape of R is  (85, 85)\n",
      "B shape =  (85, 1089)\n",
      "||B|| =  1001.6042903129566\n",
      "U_hat shape =  (85, 85)\n",
      "d shape =  (85,)\n",
      "V shape =  (85, 1089)\n",
      "U_hat shape =  (85, 80)\n",
      "d shape =  (80,)\n",
      "V shape =  (85, 80)\n",
      "U shape =  (300, 80)\n",
      "Q shape =  (300, 85)\n",
      "U_hat shape =  (85, 80)\n"
     ]
    },
    {
     "data": {
      "image/png": "[encoded data removed]",
      "text/plain": [
       "<Figure size 432x288 with 1 Axes>"
      ]
     },
     "metadata": {
      "needs_background": "light"
     },
     "output_type": "display_data"
    }
   ],
   "source": [
    "\n",
    "\n",
    "Omega = MultiVector(x[PARAMETER], k_evec+p_evec)\n",
    "myRandom.normal(1., Omega)\n",
    "\n",
    "# J.Bu.get_local().shape\n",
    "\n",
    "U,d,V = accuracyEnhancedSVD(J,Omega,k_evec)\n",
    "\n",
    "\n",
    "\n",
    "plt.figure()\n",
    "nb.plot_eigenvalues(d, mytitle=\"Singular Values J\")\n",
    "#     nb.plot_eigenvectors(Vh[PARAMETER], V_H_GN, mytitle=\"Eigenvectors\", which=[0,1,2,5,10,15])\n",
    "plt.show()"
   ]
  },
  {
   "cell_type": "markdown",
   "metadata": {},
   "source": [
    "## 3. Mesh independence of the spectrum of the preconditioned Hessian misfit"
   ]
  },
  {
   "cell_type": "code",
   "execution_count": 4,
   "metadata": {},
   "outputs": [],
   "source": [
    "# gamma = 70.\n",
    "# delta = 1e-1\n",
    "\n",
    "# k = dl.Constant(1.0)\n",
    "# v = dl.Constant((0.0, 0.0))\n",
    "# c = dl.Constant(0.)\n",
    "\n",
    "# n = [16,32,64]\n",
    "# lmbda1, V1, Vm1, niter1 = solve(n[0],n[0], targets, rel_noise, gamma, delta,verbose=False)\n",
    "# lmbda2, V2, Vm2, niter2 = solve(n[1],n[1], targets, rel_noise, gamma, delta,verbose=False)\n",
    "# lmbda3, V3, Vm3, niter3 = solve(n[2],n[2], targets, rel_noise, gamma, delta,verbose=False)\n",
    "\n",
    "# print( \"Number of Iterations: \", niter1, niter2, niter3 )\n",
    "# plt.figure(figsize=(18,4))\n",
    "# nb.plot_eigenvalues(lmbda1, mytitle=\"Eigenvalues Mesh {0} by {1}\".format(n[0],n[0]), subplot_loc=131)\n",
    "# nb.plot_eigenvalues(lmbda2, mytitle=\"Eigenvalues Mesh {0} by {1}\".format(n[1],n[1]), subplot_loc=132)\n",
    "# nb.plot_eigenvalues(lmbda3, mytitle=\"Eigenvalues Mesh {0} by {1}\".format(n[2],n[2]), subplot_loc=133)\n",
    "\n",
    "# nb.plot_eigenvectors(Vm1, V1, mytitle=\"Mesh {0} by {1} Eigen\".format(n[0],n[0]), which=[0,1,5])\n",
    "# nb.plot_eigenvectors(Vm2, V2, mytitle=\"Mesh {0} by {1} Eigen\".format(n[1],n[1]), which=[0,1,5])\n",
    "# nb.plot_eigenvectors(Vm3, V3, mytitle=\"Mesh {0} by {1} Eigen\".format(n[2],n[2]), which=[0,1,5])\n",
    "\n",
    "# plt.show()"
   ]
  },
  {
   "cell_type": "markdown",
   "metadata": {},
   "source": [
    "Copyright (c) 2016-2018, The University of Texas at Austin & University of California, Merced.<br>\n",
    "Copyright (c) 2019, The University of Texas at Austin, University of California--Merced, Washington University in St. Louis.<br>\n",
    "All Rights reserved.<br>\n",
    "See file COPYRIGHT for details.\n",
    "\n",
    "This file is part of the hIPPYlib library. For more information and source code\n",
    "availability see https://hippylib.github.io.\n",
    "\n",
    "hIPPYlib is free software; you can redistribute it and/or modify it under the terms of the GNU General Public License (as published by the Free Software Foundation) version 2.0 dated June 1991."
   ]
  }
 ],
 "metadata": {
  "kernelspec": {
   "display_name": "Python 3",
   "language": "python",
   "name": "python3"
  },
  "language_info": {
   "codemirror_mode": {
    "name": "ipython",
    "version": 3
   },
   "file_extension": ".py",
   "mimetype": "text/x-python",
   "name": "python",
   "nbconvert_exporter": "python",
   "pygments_lexer": "ipython3",
   "version": "3.7.3"
  }
 },
 "nbformat": 4,
 "nbformat_minor": 1
}
